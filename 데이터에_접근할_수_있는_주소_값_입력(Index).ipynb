{
  "nbformat": 4,
  "nbformat_minor": 0,
  "metadata": {
    "colab": {
      "private_outputs": true,
      "provenance": [],
      "authorship_tag": "ABX9TyNVxnbskEs0irt1x69JmgHx",
      "include_colab_link": true
    },
    "kernelspec": {
      "name": "python3",
      "display_name": "Python 3"
    },
    "language_info": {
      "name": "python"
    }
  },
  "cells": [
    {
      "cell_type": "markdown",
      "metadata": {
        "id": "view-in-github",
        "colab_type": "text"
      },
      "source": [
        "<a href=\"https://colab.research.google.com/github/jstrend/BigData/blob/main/%EB%8D%B0%EC%9D%B4%ED%84%B0%EC%97%90_%EC%A0%91%EA%B7%BC%ED%95%A0_%EC%88%98_%EC%9E%88%EB%8A%94_%EC%A3%BC%EC%86%8C_%EA%B0%92_%EC%9E%85%EB%A0%A5(Index).ipynb\" target=\"_parent\"><img src=\"https://colab.research.google.com/assets/colab-badge.svg\" alt=\"Open In Colab\"/></a>"
      ]
    },
    {
      "cell_type": "markdown",
      "source": [
        "3. 데이터에 접근할 수 있는 주소 값 입력(Index)"
      ],
      "metadata": {
        "id": "NOLGZIjsx5gO"
      }
    },
    {
      "cell_type": "code",
      "execution_count": null,
      "metadata": {
        "id": "vTyW9mU0xxcJ"
      },
      "outputs": [],
      "source": [
        "import pandas as pd\n",
        "rain = {\n",
        "    '연도': [2011, 2012, 2013, 2014, 2015, 2016, 2017, 2018, 2019, 2020, 2021],\n",
        "    '강수량(mm)' : [600.9, 305.1, 427.5, 146.2, 240.2, 341.1, 296.7, 292.7, 299.7, 696.5, 227.5],\n",
        "    '강수일수' : [19.1, 13.9, 25.2, 14.7, 17.7, 16.1, 16.9, 10.8, 16.4, 28.5, 9.9]\n",
        "}\n",
        "df = pd.DataFrame(rain, index=['1', '2', '3', '4', '5', '6', '7', '8', '9', '10', '11'])\n",
        "df"
      ]
    },
    {
      "cell_type": "code",
      "source": [
        "df.index"
      ],
      "metadata": {
        "id": "4T_Td8C0x8Wi"
      },
      "execution_count": null,
      "outputs": []
    },
    {
      "cell_type": "markdown",
      "source": [
        "Index 이름 설정"
      ],
      "metadata": {
        "id": "2CaUtPhWyDTK"
      }
    },
    {
      "cell_type": "code",
      "source": [
        "df.index.name = '순서'\n",
        "df"
      ],
      "metadata": {
        "id": "Z4Ct3UvHyCAO"
      },
      "execution_count": null,
      "outputs": []
    },
    {
      "cell_type": "markdown",
      "source": [
        "Index 초기화"
      ],
      "metadata": {
        "id": "HM3XySQEyLig"
      }
    },
    {
      "cell_type": "code",
      "source": [
        "df.reset_index()"
      ],
      "metadata": {
        "id": "BxjYH47FyFPd"
      },
      "execution_count": null,
      "outputs": []
    },
    {
      "cell_type": "code",
      "source": [
        "df.reset_index(drop=True) # 원래 쓰던 '지원번호' 인덱스 삭제"
      ],
      "metadata": {
        "id": "Fynp97-OyNW1"
      },
      "execution_count": null,
      "outputs": []
    },
    {
      "cell_type": "code",
      "source": [
        "df"
      ],
      "metadata": {
        "id": "C01D0VHQyOoc"
      },
      "execution_count": null,
      "outputs": []
    },
    {
      "cell_type": "code",
      "source": [
        "df.reset_index(drop=True, inplace=True) # 실제 데이터에 바로 반영\n",
        "df"
      ],
      "metadata": {
        "id": "uWb0dM58yQYZ"
      },
      "execution_count": null,
      "outputs": []
    },
    {
      "cell_type": "markdown",
      "source": [
        "Index 설정\n",
        "\n",
        "지정한 column 으로 Index 를 설정"
      ],
      "metadata": {
        "id": "egWI-3UGyWfi"
      }
    },
    {
      "cell_type": "code",
      "source": [
        "df.set_index('연도')\n",
        "df"
      ],
      "metadata": {
        "id": "41jC_qlFySSB"
      },
      "execution_count": null,
      "outputs": []
    },
    {
      "cell_type": "code",
      "source": [
        "df.set_index('연도', inplace=True)\n",
        "df"
      ],
      "metadata": {
        "id": "3fLnJ1hoyYmq"
      },
      "execution_count": null,
      "outputs": []
    },
    {
      "cell_type": "markdown",
      "source": [
        "Index 정렬\n",
        "\n",
        "Index 를 기준으로 오름차순, 내림차순 정렬"
      ],
      "metadata": {
        "id": "4EkseVwtyegb"
      }
    },
    {
      "cell_type": "code",
      "source": [
        "df.sort_index() # 인덱스로 오름차순 정렬"
      ],
      "metadata": {
        "id": "5KX-jWFMyczh"
      },
      "execution_count": null,
      "outputs": []
    },
    {
      "cell_type": "code",
      "source": [
        "df.sort_index(ascending=False) # 내림차순으로 정렬"
      ],
      "metadata": {
        "id": "Me1tvzEeyhGw"
      },
      "execution_count": null,
      "outputs": []
    },
    {
      "cell_type": "code",
      "source": [],
      "metadata": {
        "id": "IP9G-bdMyifm"
      },
      "execution_count": null,
      "outputs": []
    }
  ]
}