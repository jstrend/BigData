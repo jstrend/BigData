{
  "nbformat": 4,
  "nbformat_minor": 0,
  "metadata": {
    "colab": {
      "private_outputs": true,
      "provenance": [],
      "authorship_tag": "ABX9TyMxj40NrLxqqzryCo8uYDS6",
      "include_colab_link": true
    },
    "kernelspec": {
      "name": "python3",
      "display_name": "Python 3"
    },
    "language_info": {
      "name": "python"
    }
  },
  "cells": [
    {
      "cell_type": "markdown",
      "metadata": {
        "id": "view-in-github",
        "colab_type": "text"
      },
      "source": [
        "<a href=\"https://colab.research.google.com/github/jstrend/BigData/blob/main/%EA%B7%B8%EB%9E%98%ED%94%84%EA%B7%B8%EB%A6%AC%EA%B8%B0.ipynb\" target=\"_parent\"><img src=\"https://colab.research.google.com/assets/colab-badge.svg\" alt=\"Open In Colab\"/></a>"
      ]
    },
    {
      "cell_type": "markdown",
      "source": [
        "그래프 그리기"
      ],
      "metadata": {
        "id": "jHTg9CBo0OD-"
      }
    },
    {
      "cell_type": "code",
      "source": [
        "!apt-get install -y fonts-nanum*\n",
        "!rm -rf /root/.cache/matplotlib/* # 폰트 캐시 재설정"
      ],
      "metadata": {
        "id": "BNl0903d1xHg"
      },
      "execution_count": null,
      "outputs": []
    },
    {
      "cell_type": "code",
      "source": [
        "# 런타임 다시 시작 후 실행\n",
        "%matplotlib inline\n",
        "import matplotlib.pyplot as plt\n",
        "import matplotlib as mpl\n",
        "#\n",
        "path = '/usr/share/fonts/truetype/nanum/NanumGothic.ttf'\n",
        "NanumbarunGothic = mpl.font_manager.FontProperties(fname=path).get_name()\n",
        "plt.rcParams['font.family'] = NanumbarunGothic"
      ],
      "metadata": {
        "id": "t3MsSYMt3AWm"
      },
      "execution_count": null,
      "outputs": []
    },
    {
      "cell_type": "code",
      "execution_count": null,
      "metadata": {
        "id": "hlx-U8_Z0J38"
      },
      "outputs": [],
      "source": [
        "import pandas as pd\n",
        "import matplotlib.pyplot as plt\n",
        "import matplotlib\n",
        "matplotlib.rcParams['font.family'] = 'NanumBarunGothic' # 다운받은 폰트\n",
        "matplotlib.rcParams['font.size'] = 15 # 글자 크기\n",
        "matplotlib.rcParams['axes.unicode_minus'] = False # 한글 폰트 사용 시, 마이너스 글자가 깨지는 현상을 해결\n",
        "import matplotlib.font_manager as fm\n",
        "fm.fontManager.ttflist # 사용 가능한 폰트 확인\n",
        "[f.name for f in fm.fontManager.ttflist]"
      ]
    },
    {
      "cell_type": "code",
      "source": [
        "df = pd.read_excel('rain.xlsx')\n",
        "df"
      ],
      "metadata": {
        "id": "gP4isT1U0Umi"
      },
      "execution_count": null,
      "outputs": []
    },
    {
      "cell_type": "code",
      "source": [
        "plt.plot(df['연도'], df['강수량(mm)'])\n",
        "plt.xlabel('연도')\n",
        "plt.ylabel('강수량(mm)')"
      ],
      "metadata": {
        "id": "c172voTB0eGR"
      },
      "execution_count": null,
      "outputs": []
    },
    {
      "cell_type": "code",
      "source": [
        "plt.plot(df['연도'], df['강수량(mm)'])\n",
        "plt.plot(df['연도'], df['강수일수'])\n",
        "plt.xlabel('연도')\n",
        "plt.ylabel('강수량과 강수일수')"
      ],
      "metadata": {
        "id": "h8aBASla0kJG"
      },
      "execution_count": null,
      "outputs": []
    },
    {
      "cell_type": "code",
      "source": [
        "plt.plot(df['연도'], df['강수량(mm)'])\n",
        "plt.plot(df['연도'], df['강수일수'])\n",
        "plt.xlabel('연도')\n",
        "plt.ylabel('강수량과강수일수')\n",
        "\n",
        "plt.grid(axis='y', color='purple', alpha=0.5, linestyle='--', linewidth=2)"
      ],
      "metadata": {
        "id": "CRPWE0lC0lWN"
      },
      "execution_count": null,
      "outputs": []
    },
    {
      "cell_type": "code",
      "source": [
        "plt.plot(df['연도'], df['강수량(mm)'])\n",
        "plt.plot(df['연도'], df['강수일수'])\n",
        "plt.xlabel('연도')\n",
        "plt.ylabel('강수량과강수일수')\n",
        "plt.grid(axis='y', color='purple', alpha=0.5, linestyle='--', linewidth=2)\n",
        "plt.savefig('graph.png', dpi=100)"
      ],
      "metadata": {
        "id": "i1KWs9730m1n"
      },
      "execution_count": null,
      "outputs": []
    },
    {
      "cell_type": "code",
      "source": [
        "plt.plot(df['연도'], df['강수량(mm)'], label='강수량(mm)', marker='o', linestyle='--')\n",
        "plt.plot(df['연도'], df['강수일수'], label='강수일수', marker='s', ls='-.' )\n",
        "plt.legend(ncol=2)\n",
        "\n",
        "plt.savefig('graph_leg.png', dpi=100)"
      ],
      "metadata": {
        "id": "gwFNImBP0oTL"
      },
      "execution_count": null,
      "outputs": []
    },
    {
      "cell_type": "code",
      "source": [
        "plt.plot(df['연도'], df['강수량(mm)'], label='강수량(mm)', marker='s', ls='-.' )\n",
        "plt.bar(df['연도'], df['강수일수'], label='강수일수', color='r')\n",
        "plt.legend(ncol=2)\n",
        "\n",
        "plt.savefig('graph_plus_bar.png', dpi=100)"
      ],
      "metadata": {
        "id": "16QIi8I00pwY"
      },
      "execution_count": null,
      "outputs": []
    },
    {
      "cell_type": "code",
      "source": [],
      "metadata": {
        "id": "JsiOAKIB0rXR"
      },
      "execution_count": null,
      "outputs": []
    }
  ]
}