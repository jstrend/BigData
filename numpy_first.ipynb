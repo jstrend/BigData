{
  "nbformat": 4,
  "nbformat_minor": 0,
  "metadata": {
    "colab": {
      "private_outputs": true,
      "provenance": [],
      "mount_file_id": "16QdLD8YOfAaNicOMzgl0AlQ_ODCrX269",
      "authorship_tag": "ABX9TyMZFxidvPmbKqZZFZkkqDb2",
      "include_colab_link": true
    },
    "kernelspec": {
      "name": "python3",
      "display_name": "Python 3"
    },
    "language_info": {
      "name": "python"
    }
  },
  "cells": [
    {
      "cell_type": "markdown",
      "metadata": {
        "id": "view-in-github",
        "colab_type": "text"
      },
      "source": [
        "<a href=\"https://colab.research.google.com/github/jstrend/BigData2023/blob/main/numpy_first.ipynb\" target=\"_parent\"><img src=\"https://colab.research.google.com/assets/colab-badge.svg\" alt=\"Open In Colab\"/></a>"
      ]
    },
    {
      "cell_type": "code",
      "execution_count": null,
      "metadata": {
        "id": "itD8LzNboLiv"
      },
      "outputs": [],
      "source": [
        "import numpy as np\n",
        "a = np.arange(15).reshape(3, 5)\n",
        "a"
      ]
    },
    {
      "cell_type": "code",
      "source": [
        "np.arange(15)\n"
      ],
      "metadata": {
        "id": "mCsdBYSqsTjK"
      },
      "execution_count": null,
      "outputs": []
    },
    {
      "cell_type": "code",
      "source": [
        "np.arange(15).reshape(3, 5)"
      ],
      "metadata": {
        "id": "aikoYoWcty1F"
      },
      "execution_count": null,
      "outputs": []
    },
    {
      "cell_type": "code",
      "source": [
        "a = np.arange(15).reshape(3, 5)"
      ],
      "metadata": {
        "id": "o5r6Vf_Kudkc"
      },
      "execution_count": null,
      "outputs": []
    },
    {
      "cell_type": "code",
      "source": [
        "a"
      ],
      "metadata": {
        "id": "7mHm1nKfuwv2"
      },
      "execution_count": null,
      "outputs": []
    },
    {
      "cell_type": "code",
      "source": [],
      "metadata": {
        "id": "epHR1JAru5VU"
      },
      "execution_count": null,
      "outputs": []
    }
  ]
}