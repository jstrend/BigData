{
  "nbformat": 4,
  "nbformat_minor": 0,
  "metadata": {
    "colab": {
      "private_outputs": true,
      "provenance": [],
      "authorship_tag": "ABX9TyNlLUMj5x2GpVHbBXCaAwAh",
      "include_colab_link": true
    },
    "kernelspec": {
      "name": "python3",
      "display_name": "Python 3"
    },
    "language_info": {
      "name": "python"
    }
  },
  "cells": [
    {
      "cell_type": "markdown",
      "metadata": {
        "id": "view-in-github",
        "colab_type": "text"
      },
      "source": [
        "<a href=\"https://colab.research.google.com/github/jstrend/BigData/blob/main/1%EC%B0%A8%EC%9B%90%EB%B0%B0%EC%97%B4.ipynb\" target=\"_parent\"><img src=\"https://colab.research.google.com/assets/colab-badge.svg\" alt=\"Open In Colab\"/></a>"
      ]
    },
    {
      "cell_type": "code",
      "execution_count": null,
      "metadata": {
        "id": "fcgM6cPVwClS"
      },
      "outputs": [],
      "source": []
    },
    {
      "cell_type": "markdown",
      "source": [
        "jupyter 1차원 자료구성"
      ],
      "metadata": {
        "id": "EYUeEorZwFAq"
      }
    },
    {
      "cell_type": "code",
      "source": [
        "import pandas as pd\n",
        "#판다스라이이브러를 불러서 pd명령으로 짧게 호출할 수 있게 정의"
      ],
      "metadata": {
        "id": "W_jciowpwLM2"
      },
      "execution_count": null,
      "outputs": []
    },
    {
      "cell_type": "markdown",
      "source": [
        "1. 1차원 데이터\n",
        "\n",
        "1월부터 4월까지 강우량 (10, 20, 30, 40)"
      ],
      "metadata": {
        "id": "HHSNyzQ1wPpU"
      }
    },
    {
      "cell_type": "code",
      "source": [
        "rain = pd.Series([10, 20, 30, 40])\n",
        "rain"
      ],
      "metadata": {
        "id": "CLRkUJlewNwO"
      },
      "execution_count": null,
      "outputs": []
    },
    {
      "cell_type": "code",
      "source": [
        "rain[0] # 1월 강우량\n",
        "# 1차원선언에서는 첫번째 주소가 0, 두번째가 1, 4번째가 3으로 선언"
      ],
      "metadata": {
        "id": "7bPuWT7_wVXW"
      },
      "execution_count": null,
      "outputs": []
    },
    {
      "cell_type": "code",
      "source": [
        "rain[2] # 3월 강우량"
      ],
      "metadata": {
        "id": "0PqzQFvZwXep"
      },
      "execution_count": null,
      "outputs": []
    },
    {
      "cell_type": "markdown",
      "source": [
        "Index"
      ],
      "metadata": {
        "id": "CM-AM54vwagc"
      }
    },
    {
      "cell_type": "code",
      "source": [
        "rain = pd.Series([10, 20, 30, 40], index=['Jan', 'Feb', 'Mar', 'Apr'])\n",
        "print(rain)"
      ],
      "metadata": {
        "id": "G08ZPgggwY4F"
      },
      "execution_count": null,
      "outputs": []
    },
    {
      "cell_type": "code",
      "source": [
        "rain"
      ],
      "metadata": {
        "id": "cbgfKEn7wchV"
      },
      "execution_count": null,
      "outputs": []
    },
    {
      "cell_type": "code",
      "source": [
        "rain['Jan'] # Index Jan (1월) 에 해당하는 데이터 출력"
      ],
      "metadata": {
        "id": "mSR4ZrTZwdpN"
      },
      "execution_count": null,
      "outputs": []
    },
    {
      "cell_type": "code",
      "source": [
        "rain['Apr'] # Index Apr (4월) 에 해당하는 데이터 출력"
      ],
      "metadata": {
        "id": "VV5njBnRwe-4"
      },
      "execution_count": null,
      "outputs": []
    },
    {
      "cell_type": "code",
      "source": [],
      "metadata": {
        "id": "5dDeFyaPwgH1"
      },
      "execution_count": null,
      "outputs": []
    }
  ]
}