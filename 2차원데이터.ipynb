{
  "nbformat": 4,
  "nbformat_minor": 0,
  "metadata": {
    "colab": {
      "private_outputs": true,
      "provenance": [],
      "authorship_tag": "ABX9TyMPgPdk29s3WISH4DYxn3wM",
      "include_colab_link": true
    },
    "kernelspec": {
      "name": "python3",
      "display_name": "Python 3"
    },
    "language_info": {
      "name": "python"
    }
  },
  "cells": [
    {
      "cell_type": "markdown",
      "metadata": {
        "id": "view-in-github",
        "colab_type": "text"
      },
      "source": [
        "<a href=\"https://colab.research.google.com/github/jstrend/BigData/blob/main/2%EC%B0%A8%EC%9B%90%EB%8D%B0%EC%9D%B4%ED%84%B0.ipynb\" target=\"_parent\"><img src=\"https://colab.research.google.com/assets/colab-badge.svg\" alt=\"Open In Colab\"/></a>"
      ]
    },
    {
      "cell_type": "markdown",
      "source": [
        "2. 2차원 데이터(DataFrame)\n",
        "\n",
        "일반적으로 데이터는 행과 열로 구현 되고 python은 Pandas라는 라이브러리를 사용하여\n",
        "\n",
        "행열로 구현된 데이터 셋을 만들어 처리하는데 이를 DataFrame이라고 함\n",
        "\n",
        "Data 입력(전국 강수량 및 강수일수)"
      ],
      "metadata": {
        "id": "59IqpgZ8xH_d"
      }
    },
    {
      "cell_type": "code",
      "execution_count": null,
      "metadata": {
        "id": "f_YFx6Tmw66W"
      },
      "outputs": [],
      "source": [
        "rain = {\n",
        "    '연도': [2011, 2012, 2013, 2014, 2015, 2016, 2017, 2018, 2019, 2020, 2021],\n",
        "    '강수량(mm)' : [600.9, 305.1, 427.5, 146.2, 240.2, 341.1, 296.7, 292.7, 299.7, 696.5, 227.5],\n",
        "    '강수일수' : [19.1, 13.9, 25.2, 14.7, 17.7, 16.1, 16.9, 10.8, 16.4, 28.5, 9.9]\n",
        "}\n",
        "print(rain)"
      ]
    },
    {
      "cell_type": "code",
      "source": [
        "rain['연도']"
      ],
      "metadata": {
        "id": "r0NPRqrcxNwp"
      },
      "execution_count": null,
      "outputs": []
    },
    {
      "cell_type": "code",
      "source": [
        "\n",
        "rain['강수일수']"
      ],
      "metadata": {
        "id": "JDG6zohhxO5I"
      },
      "execution_count": null,
      "outputs": []
    },
    {
      "cell_type": "markdown",
      "source": [
        "DataFrame 객체 생성"
      ],
      "metadata": {
        "id": "cEBohbn-xRic"
      }
    },
    {
      "cell_type": "code",
      "source": [
        "import pandas as pd\n",
        "df = pd.DataFrame(rain)"
      ],
      "metadata": {
        "id": "wLo45FRfxP-e"
      },
      "execution_count": null,
      "outputs": []
    },
    {
      "cell_type": "code",
      "source": [
        "\n",
        "df"
      ],
      "metadata": {
        "id": "7NdovSxWxTkI"
      },
      "execution_count": null,
      "outputs": []
    },
    {
      "cell_type": "markdown",
      "source": [
        "데이터 접근"
      ],
      "metadata": {
        "id": "NoHB6hIGxWEW"
      }
    },
    {
      "cell_type": "code",
      "source": [
        "df['연도']"
      ],
      "metadata": {
        "id": "-UUIowEUxUn_"
      },
      "execution_count": null,
      "outputs": []
    },
    {
      "cell_type": "code",
      "source": [
        "\n",
        "df['강수량(mm)']"
      ],
      "metadata": {
        "id": "Rp6ZLk2BxX6W"
      },
      "execution_count": null,
      "outputs": []
    },
    {
      "cell_type": "code",
      "source": [
        "df[['연도', '강수량(mm)', '강수일수']]"
      ],
      "metadata": {
        "id": "CmN36Q64xZAc"
      },
      "execution_count": null,
      "outputs": []
    },
    {
      "cell_type": "markdown",
      "source": [
        "DataFrame 객체 생성 (Index 지정)"
      ],
      "metadata": {
        "id": "1nk0muC7xcUM"
      }
    },
    {
      "cell_type": "code",
      "source": [
        "df = pd.DataFrame(rain, index=['1', '2', '3', '4', '5', '6', '7', '8', '9', '10', '11'])\n",
        "df"
      ],
      "metadata": {
        "id": "CR9zYWxcxaLF"
      },
      "execution_count": null,
      "outputs": []
    },
    {
      "cell_type": "markdown",
      "source": [
        "DataFrame 객체 생성 (Column 지정)\n",
        "\n",
        "data 중에서 원하는 column 만 선택하거나, 순서 변경 가능"
      ],
      "metadata": {
        "id": "ZQsESvHxxfQ3"
      }
    },
    {
      "cell_type": "code",
      "source": [
        "df = pd.DataFrame(rain, columns=['연도', '강수량(mm)', '강수일수'])\n",
        "df"
      ],
      "metadata": {
        "id": "PuFGWyHsxd8K"
      },
      "execution_count": null,
      "outputs": []
    },
    {
      "cell_type": "code",
      "source": [
        "df = pd.DataFrame(rain, columns=['연도', '강수일수','강수량(mm)'])\n",
        "df"
      ],
      "metadata": {
        "id": "gtXqBh_Zxj4L"
      },
      "execution_count": null,
      "outputs": []
    },
    {
      "cell_type": "code",
      "source": [],
      "metadata": {
        "id": "xkguTZkPxlIm"
      },
      "execution_count": null,
      "outputs": []
    }
  ]
}