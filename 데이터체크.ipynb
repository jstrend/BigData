{
  "nbformat": 4,
  "nbformat_minor": 0,
  "metadata": {
    "colab": {
      "private_outputs": true,
      "provenance": [],
      "authorship_tag": "ABX9TyNfYbwFUWddGnnotugXtL4w",
      "include_colab_link": true
    },
    "kernelspec": {
      "name": "python3",
      "display_name": "Python 3"
    },
    "language_info": {
      "name": "python"
    }
  },
  "cells": [
    {
      "cell_type": "markdown",
      "metadata": {
        "id": "view-in-github",
        "colab_type": "text"
      },
      "source": [
        "<a href=\"https://colab.research.google.com/github/jstrend/BigData/blob/main/%EB%8D%B0%EC%9D%B4%ED%84%B0%EC%B2%B4%ED%81%AC.ipynb\" target=\"_parent\"><img src=\"https://colab.research.google.com/assets/colab-badge.svg\" alt=\"Open In Colab\"/></a>"
      ]
    },
    {
      "cell_type": "markdown",
      "source": [
        "데이터 체크 방법"
      ],
      "metadata": {
        "id": "KPKMvq2WzQ-u"
      }
    },
    {
      "cell_type": "code",
      "execution_count": null,
      "metadata": {
        "id": "TI6c-fN1zOQa"
      },
      "outputs": [],
      "source": [
        "import pandas as pd\n",
        "df = pd.read_excel('rain.xlsx', index_col='연도')\n",
        "df"
      ]
    },
    {
      "cell_type": "markdown",
      "source": [
        "DataFrame 확인\n",
        "\n",
        "계산 가능한 데이터에 대해 Column 별로 데이터의 갯수, 평균, 표준편차, 최소/\n",
        "최대값 등의 정보를 보여줌"
      ],
      "metadata": {
        "id": "CseJYu_RzVvK"
      }
    },
    {
      "cell_type": "code",
      "source": [
        "df.describe()"
      ],
      "metadata": {
        "id": "9Pqk5GIWzUTr"
      },
      "execution_count": null,
      "outputs": []
    },
    {
      "cell_type": "code",
      "source": [
        "df.info()"
      ],
      "metadata": {
        "id": "xUzYrex3zorx"
      },
      "execution_count": null,
      "outputs": []
    },
    {
      "cell_type": "code",
      "source": [
        "df.head() # 처음 5개의 row 를 가져옴"
      ],
      "metadata": {
        "id": "3t-G1ulLzqEk"
      },
      "execution_count": null,
      "outputs": []
    },
    {
      "cell_type": "code",
      "source": [
        "df.head(7) # 처음 7개의 row 를 가져옴"
      ],
      "metadata": {
        "id": "Z7p-fCvjzrVX"
      },
      "execution_count": null,
      "outputs": []
    },
    {
      "cell_type": "code",
      "source": [
        "df.tail() # 마지막 5개 row 를 가져옴"
      ],
      "metadata": {
        "id": "-UDrFFG-zskr"
      },
      "execution_count": null,
      "outputs": []
    },
    {
      "cell_type": "code",
      "source": [
        "df.tail(3) # 마지막 3개 row 를 가져옴"
      ],
      "metadata": {
        "id": "LRJKPazSzt_r"
      },
      "execution_count": null,
      "outputs": []
    },
    {
      "cell_type": "code",
      "source": [
        "df.values"
      ],
      "metadata": {
        "id": "LM_A4SwbzvPU"
      },
      "execution_count": null,
      "outputs": []
    },
    {
      "cell_type": "code",
      "source": [
        "df.index"
      ],
      "metadata": {
        "id": "DJgCsXcCzwVr"
      },
      "execution_count": null,
      "outputs": []
    },
    {
      "cell_type": "code",
      "source": [
        "df.columns"
      ],
      "metadata": {
        "id": "2_lsj_Pwzx6j"
      },
      "execution_count": null,
      "outputs": []
    },
    {
      "cell_type": "code",
      "source": [
        "df.shape # row, column"
      ],
      "metadata": {
        "id": "00btzEeQzzd4"
      },
      "execution_count": null,
      "outputs": []
    },
    {
      "cell_type": "code",
      "source": [
        "df"
      ],
      "metadata": {
        "id": "gXtUiaPdz0qd"
      },
      "execution_count": null,
      "outputs": []
    },
    {
      "cell_type": "markdown",
      "source": [
        "Series 확인"
      ],
      "metadata": {
        "id": "PZaFGuEQz3O2"
      }
    },
    {
      "cell_type": "code",
      "source": [
        "df['강수량(mm)'].describe()"
      ],
      "metadata": {
        "id": "hbdmcxcWz1vf"
      },
      "execution_count": null,
      "outputs": []
    },
    {
      "cell_type": "code",
      "source": [
        "df['강수량(mm)'].min()"
      ],
      "metadata": {
        "id": "1gqwO7A7z46a"
      },
      "execution_count": null,
      "outputs": []
    },
    {
      "cell_type": "code",
      "source": [
        "df['강수량(mm)'].max()"
      ],
      "metadata": {
        "id": "FBpYPzPOz6BA"
      },
      "execution_count": null,
      "outputs": []
    },
    {
      "cell_type": "code",
      "source": [
        "df['강수량(mm)'].nlargest(3) # 비 많이 온 순서대로 3년의 데이터"
      ],
      "metadata": {
        "id": "5WkE0AYjz7ME"
      },
      "execution_count": null,
      "outputs": []
    },
    {
      "cell_type": "code",
      "source": [
        "df['강수량(mm)'].mean()"
      ],
      "metadata": {
        "id": "CSOs3Ai3z8mp"
      },
      "execution_count": null,
      "outputs": []
    },
    {
      "cell_type": "code",
      "source": [
        "df['강수량(mm)'].sum()"
      ],
      "metadata": {
        "id": "yHz49_I1z9xO"
      },
      "execution_count": null,
      "outputs": []
    },
    {
      "cell_type": "code",
      "source": [
        "df['강수일수'].count()"
      ],
      "metadata": {
        "id": "bchsjJcMz-9W"
      },
      "execution_count": null,
      "outputs": []
    },
    {
      "cell_type": "code",
      "source": [
        "df['강수일수'].unique()"
      ],
      "metadata": {
        "id": "jZh2aENx0Ag3"
      },
      "execution_count": null,
      "outputs": []
    },
    {
      "cell_type": "code",
      "source": [
        "df['강수일수'].nunique()"
      ],
      "metadata": {
        "id": "4Ctwprhu0Bvr"
      },
      "execution_count": null,
      "outputs": []
    },
    {
      "cell_type": "code",
      "source": [],
      "metadata": {
        "id": "HEOb7gSp0C-R"
      },
      "execution_count": null,
      "outputs": []
    }
  ]
}