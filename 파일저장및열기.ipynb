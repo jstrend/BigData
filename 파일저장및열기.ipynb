{
  "nbformat": 4,
  "nbformat_minor": 0,
  "metadata": {
    "colab": {
      "private_outputs": true,
      "provenance": [],
      "authorship_tag": "ABX9TyNO5VJPpHSC9cgGb5w7txzH",
      "include_colab_link": true
    },
    "kernelspec": {
      "name": "python3",
      "display_name": "Python 3"
    },
    "language_info": {
      "name": "python"
    }
  },
  "cells": [
    {
      "cell_type": "markdown",
      "metadata": {
        "id": "view-in-github",
        "colab_type": "text"
      },
      "source": [
        "<a href=\"https://colab.research.google.com/github/jstrend/BigData/blob/main/%ED%8C%8C%EC%9D%BC%EC%A0%80%EC%9E%A5%EB%B0%8F%EC%97%B4%EA%B8%B0.ipynb\" target=\"_parent\"><img src=\"https://colab.research.google.com/assets/colab-badge.svg\" alt=\"Open In Colab\"/></a>"
      ]
    },
    {
      "cell_type": "markdown",
      "source": [
        "excel, csv형태로 파일 저장 및 열기"
      ],
      "metadata": {
        "id": "6zBvTCcUytgE"
      }
    },
    {
      "cell_type": "code",
      "execution_count": null,
      "metadata": {
        "id": "3b-vpA-5yqMI"
      },
      "outputs": [],
      "source": [
        "import pandas as pd\n",
        "rain = {\n",
        "    '연도': [2011, 2012, 2013, 2014, 2015, 2016, 2017, 2018, 2019, 2020, 2021],\n",
        "    '강수량(mm)' : [600.9, 305.1, 427.5, 146.2, 240.2, 341.1, 296.7, 292.7, 299.7, 696.5, 227.5],\n",
        "    '강수일수' : [19.1, 13.9, 25.2, 14.7, 17.7, 16.1, 16.9, 10.8, 16.4, 28.5, 9.9]\n",
        "}\n",
        "df = pd.DataFrame(rain, index=['1', '2', '3', '4', '5', '6', '7', '8', '9', '10', '11'])\n",
        "df.index.name = '연도'\n",
        "df"
      ]
    },
    {
      "cell_type": "markdown",
      "source": [
        "csv 저장하기"
      ],
      "metadata": {
        "id": "TDECjyayyxQA"
      }
    },
    {
      "cell_type": "code",
      "source": [
        "df.to_csv('rain.csv')"
      ],
      "metadata": {
        "id": "HYOmn9UXyv0y"
      },
      "execution_count": null,
      "outputs": []
    },
    {
      "cell_type": "markdown",
      "source": [
        "엑셀 파일로 저장"
      ],
      "metadata": {
        "id": "CbJ05rVqy0cU"
      }
    },
    {
      "cell_type": "code",
      "source": [
        "df.to_excel('rain.xlsx')"
      ],
      "metadata": {
        "id": "7SSn7eNqyzON"
      },
      "execution_count": null,
      "outputs": []
    },
    {
      "cell_type": "markdown",
      "source": [
        "\n",
        "열기\n",
        "\n",
        "csv 파일 열기"
      ],
      "metadata": {
        "id": "mvBfGDj5y3tP"
      }
    },
    {
      "cell_type": "code",
      "source": [
        "df = pd.read_csv('rain.csv')\n",
        "df"
      ],
      "metadata": {
        "id": "t7YWGCyXy2YN"
      },
      "execution_count": null,
      "outputs": []
    },
    {
      "cell_type": "code",
      "source": [
        "df = pd.read_csv('rain.csv', skiprows=1) # 지정된 갯수 만큼의 row 를 건너뜀\n",
        "df"
      ],
      "metadata": {
        "id": "ehXsOTdSy65o"
      },
      "execution_count": null,
      "outputs": []
    },
    {
      "cell_type": "code",
      "source": [
        "df = pd.read_csv('rain.csv', skiprows=[1, 3, 5]) # 1, 3, 5 row 는 제외 (row 0부터 시작)\n",
        "df"
      ],
      "metadata": {
        "id": "EyW_ubhYy8qY"
      },
      "execution_count": null,
      "outputs": []
    },
    {
      "cell_type": "code",
      "source": [
        "df = pd.read_csv('rain.csv', nrows=4) # 지정된 갯수 만큼의 row 만 가져옴\n",
        "df"
      ],
      "metadata": {
        "id": "tvwWGO-Zy-Hb"
      },
      "execution_count": null,
      "outputs": []
    },
    {
      "cell_type": "code",
      "source": [
        "df = pd.read_csv('rain.csv', skiprows=2, nrows=4) # 처음 2 row 무시, 이후에 4 row 를 가져옴\n",
        "df"
      ],
      "metadata": {
        "id": "Nd2csd3Ly_Wa"
      },
      "execution_count": null,
      "outputs": []
    },
    {
      "cell_type": "markdown",
      "source": [
        "엑셀 파일 열기"
      ],
      "metadata": {
        "id": "doP9iwmWzCGU"
      }
    },
    {
      "cell_type": "code",
      "source": [
        "df = pd.read_excel('rain.xlsx')\n",
        "df"
      ],
      "metadata": {
        "id": "whnqAi-_zApw"
      },
      "execution_count": null,
      "outputs": []
    },
    {
      "cell_type": "code",
      "source": [
        "df = pd.read_excel('rain.xlsx', index_col='연도')\n",
        "df"
      ],
      "metadata": {
        "id": "QKzgAjbJzDwx"
      },
      "execution_count": null,
      "outputs": []
    },
    {
      "cell_type": "code",
      "source": [],
      "metadata": {
        "id": "eA7k8xpCzE6n"
      },
      "execution_count": null,
      "outputs": []
    }
  ]
}