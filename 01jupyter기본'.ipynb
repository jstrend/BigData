{
  "nbformat": 4,
  "nbformat_minor": 0,
  "metadata": {
    "colab": {
      "private_outputs": true,
      "provenance": [],
      "authorship_tag": "ABX9TyN1T1kcqtNzTy7ICQqz9j8j",
      "include_colab_link": true
    },
    "kernelspec": {
      "name": "python3",
      "display_name": "Python 3"
    },
    "language_info": {
      "name": "python"
    }
  },
  "cells": [
    {
      "cell_type": "markdown",
      "metadata": {
        "id": "view-in-github",
        "colab_type": "text"
      },
      "source": [
        "<a href=\"https://colab.research.google.com/github/jstrend/BigData2023/blob/main/01jupyter%EA%B8%B0%EB%B3%B8'.ipynb\" target=\"_parent\"><img src=\"https://colab.research.google.com/assets/colab-badge.svg\" alt=\"Open In Colab\"/></a>"
      ]
    },
    {
      "cell_type": "code",
      "execution_count": null,
      "metadata": {
        "id": "IUrsTIKWwhRG"
      },
      "outputs": [],
      "source": [
        "jupyter 기본명령\n",
        "상단에 노트의 이름 입력\n",
        "지금 이 줄은 하나의 셀(Cell)\n",
        "셀 유형은 Code, Makrdown, Raw NBConvert, Heading\n",
        "Code: 셀에 입력한 내용으로 python언어로 처리\n",
        "Makrdown: 셀에 입력한 내용을 디스플레이 용으로 처리\n",
        "Code: 셀을 선택하고 y입력\n",
        "Makkdown: 셀을 선택하고 m입력\n",
        "셀 실행 후 다음셀로: shift + Enter\n",
        "셀 실행: Ctrl + Enter\n",
        "셀 실행 후 셀 삽입: Alt + Enter\n",
        "셀 나누기: Ctrl + shift + -(키 자판 상단 0 옆)\n",
        "아래 셀 합치기: 셀 선택 후 shift + m\n",
        "하단에 셀 삽입: 셀 선택 후 b\n",
        "상단에 셀 삽입: 셀 선택 후 a\n",
        "셀 삭제: 셀 선택후 dd\n",
        "셀 잘라내기: 셀 선택 후 x\n",
        "셀 복사하기 : 셀 선택 후 c\n",
        "셀 상단에 붙이기: 셀 선택 후 shift + v\n",
        "셀 하단에 붙이기: 셀 선택 후 v\n",
        "코드에서는 #을 입력 후에 추가한 텍스트는 코드로 인식 x"
      ]
    }
  ]
}